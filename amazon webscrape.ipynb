{
 "cells": [
  {
   "cell_type": "code",
   "execution_count": null,
   "id": "d6733b67",
   "metadata": {},
   "outputs": [
    {
     "name": "stdout",
     "output_type": "stream",
     "text": [
      "https://www.amazon.in/s?k=bags&page=1&crid=2M096C61O4MLT&qid=1679363425&sprefix=ba%2Caps%2C283&ref=sr_pg_2\n"
     ]
    }
   ],
   "source": [
    "import requests\n",
    "from bs4 import BeautifulSoup\n",
    "import csv\n",
    "import pandas as pd\n",
    "\n",
    "\n",
    "base_url = 'https://www.amazon.in'\n",
    "search_query = 'bags'\n",
    "params = {'k': search_query}\n",
    "urls=[] \n",
    "\n",
    "\n",
    "headers = {\n",
    "    'User-Agent': 'Mozilla/5.0 (Windows NT 10.0; Win64; x64) AppleWebKit/537.36 (KHTML, like Gecko) Chrome/58.0.3029.110 Safari/537.36',\n",
    "    'Accept-Language': 'en-US,en;q=0.9',\n",
    "    'Accept-Encoding': 'gzip, deflate, br',\n",
    "    'Connection': 'keep-alive',\n",
    "    'Upgrade-Insecure-Requests': '1'\n",
    "}\n",
    "\n",
    "# opening CSV file to write the extracted data\n",
    "with open('amazon_products.csv', mode='w', newline='',encoding='utf-8') as file:\n",
    "    writer = csv.writer(file)\n",
    "    writer.writerow(['Product URL', 'Product Name', 'Product Price', 'Rating', 'Number of Reviews','Product description'])\n",
    "\n",
    "    # Loop through the first 20 pages of the search results\n",
    "    for page_num in range(1, 21):\n",
    "        print(f'https://www.amazon.in/s?k=bags&page={page_num}&crid=2M096C61O4MLT&qid=1679363425&sprefix=ba%2Caps%2C283&ref=sr_pg_2')\n",
    "\n",
    "        # Send a GET request to the search results page\n",
    "        params['page'] = page_num\n",
    "        response = requests.get(base_url + '/s', headers=headers, params=params)\n",
    "        soup = BeautifulSoup(response.content, 'html.parser')\n",
    "\n",
    "        # Find all the products in the search results and extract the required data\n",
    "        products = soup.find_all('div', {'data-component-type': 's-search-result'})\n",
    "        for product in products:\n",
    "            # Extract the product URL\n",
    "            url = product.find('a', {'class': 'a-link-normal s-no-outline'})['href']\n",
    "\n",
    "            # Extract the product name\n",
    "            name = product.find('span', {'class': 'a-size-medium a-color-base a-text-normal'}).text.strip()\n",
    "\n",
    "            # Extract the product price\n",
    "            price_tag = product.find('span', {'class': 'a-price-whole'})\n",
    "            price = price_tag.text.strip() if price_tag else ''\n",
    "\n",
    "            # Extract the product rating\n",
    "            rating_tag = product.find('span', {'class': 'a-icon-alt'})\n",
    "            rating = rating_tag.text.strip().split()[0] if rating_tag else ''\n",
    "\n",
    "            # Extract the number of reviews\n",
    "            reviews_tag = product.find('span', {'class': 'a-size-base'})\n",
    "            reviews = reviews_tag.text.strip().split()[0] if reviews_tag else ''\n",
    "            urls.append(base_url+url)\n",
    "            for links in urls:\n",
    "                response = requests.get(links + '/s', headers=headers, params=params)\n",
    "                soup = BeautifulSoup(response.content, 'html.parser')\n",
    "                product_description = soup.find('span', {'class': 'a-list-item'}).text.strip()\n",
    "                \n",
    "                \n",
    "            writer.writerow([base_url+url, name, price, rating, reviews,product_description])   \n",
    "            \n",
    "           \n",
    "print('Scraping complete!')\n"
   ]
  },
  {
   "cell_type": "code",
   "execution_count": null,
   "id": "a98f26de",
   "metadata": {},
   "outputs": [],
   "source": []
  }
 ],
 "metadata": {
  "kernelspec": {
   "display_name": "Python 3 (ipykernel)",
   "language": "python",
   "name": "python3"
  },
  "language_info": {
   "codemirror_mode": {
    "name": "ipython",
    "version": 3
   },
   "file_extension": ".py",
   "mimetype": "text/x-python",
   "name": "python",
   "nbconvert_exporter": "python",
   "pygments_lexer": "ipython3",
   "version": "3.9.7"
  }
 },
 "nbformat": 4,
 "nbformat_minor": 5
}
